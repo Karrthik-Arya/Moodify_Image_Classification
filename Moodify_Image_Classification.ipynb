{
  "nbformat": 4,
  "nbformat_minor": 0,
  "metadata": {
    "colab": {
      "name": "Moodify_Image_Classification.ipynb",
      "provenance": [],
      "collapsed_sections": []
    },
    "kernelspec": {
      "name": "python3",
      "display_name": "Python 3"
    },
    "language_info": {
      "name": "python"
    },
    "accelerator": "GPU"
  },
  "cells": [
    {
      "cell_type": "markdown",
      "metadata": {
        "id": "yYzyH7kADF2H"
      },
      "source": [
        "# Mood Recognition Model\n"
      ]
    },
    {
      "cell_type": "markdown",
      "metadata": {
        "id": "cRjs86SMlh86"
      },
      "source": [
        "First of all import the necessary libraries "
      ]
    },
    {
      "cell_type": "code",
      "metadata": {
        "id": "JetD0pmRhG6j"
      },
      "source": [
        "import pandas as pd\n",
        "import numpy as np\n",
        "import cv2\n",
        "import matplotlib.pyplot as plt\n",
        "import tensorflow.keras\n",
        "import tensorflow\n",
        "import math\n",
        "from google.colab.patches import cv2_imshow\n",
        "from tensorflow import keras\n",
        "from tensorflow.keras import Sequential\n",
        "from tensorflow.keras.layers import Dense\n",
        "from tensorflow.keras.layers import Conv2D\n",
        "from tensorflow.keras.layers import MaxPool2D\n",
        "from tensorflow.keras.layers import Flatten\n",
        "from tensorflow.keras.layers import Dropout\n",
        "from tensorflow.keras.layers import BatchNormalization\n",
        "import matplotlib.pyplot as plt\n",
        "%matplotlib inline "
      ],
      "execution_count": null,
      "outputs": []
    },
    {
      "cell_type": "code",
      "metadata": {
        "colab": {
          "base_uri": "https://localhost:8080/"
        },
        "id": "fLLw95UODfxV",
        "outputId": "a63f4597-8d14-4a72-ea1d-683e317b85bc"
      },
      "source": [
        "device_name = tensorflow.test.gpu_device_name() #in the notebook settings do enable gpu while running the code\n",
        "if device_name != '/device:GPU:0':\n",
        "  raise SystemError('GPU device not found')\n",
        "print('Found GPU at: {}'.format(device_name))"
      ],
      "execution_count": null,
      "outputs": [
        {
          "output_type": "stream",
          "text": [
            "Found GPU at: /device:GPU:0\n"
          ],
          "name": "stdout"
        }
      ]
    },
    {
      "cell_type": "code",
      "metadata": {
        "colab": {
          "base_uri": "https://localhost:8080/"
        },
        "id": "vgYLLaN3DAKA",
        "outputId": "5585aba3-c51f-4f7c-c54b-77e57f217e00"
      },
      "source": [
        "from google.colab import drive\n",
        "drive.mount('/content/drive')"
      ],
      "execution_count": null,
      "outputs": [
        {
          "output_type": "stream",
          "text": [
            "Drive already mounted at /content/drive; to attempt to forcibly remount, call drive.mount(\"/content/drive\", force_remount=True).\n"
          ],
          "name": "stdout"
        }
      ]
    },
    {
      "cell_type": "markdown",
      "metadata": {
        "id": "BPar1K0MlqgT"
      },
      "source": [
        "Importing the fer2013 dataset which we are using to train the model here"
      ]
    },
    {
      "cell_type": "code",
      "metadata": {
        "id": "fUlZX2iIjJpO"
      },
      "source": [
        "data = pd.read_csv('/content/drive/My Drive/fer2013.csv')"
      ],
      "execution_count": null,
      "outputs": []
    },
    {
      "cell_type": "code",
      "metadata": {
        "id": "VJnWbgkojjS0",
        "colab": {
          "base_uri": "https://localhost:8080/",
          "height": 417
        },
        "outputId": "c026618c-65e1-42fd-ff81-61cf975d827b"
      },
      "source": [
        "data"
      ],
      "execution_count": null,
      "outputs": [
        {
          "output_type": "execute_result",
          "data": {
            "text/html": [
              "<div>\n",
              "<style scoped>\n",
              "    .dataframe tbody tr th:only-of-type {\n",
              "        vertical-align: middle;\n",
              "    }\n",
              "\n",
              "    .dataframe tbody tr th {\n",
              "        vertical-align: top;\n",
              "    }\n",
              "\n",
              "    .dataframe thead th {\n",
              "        text-align: right;\n",
              "    }\n",
              "</style>\n",
              "<table border=\"1\" class=\"dataframe\">\n",
              "  <thead>\n",
              "    <tr style=\"text-align: right;\">\n",
              "      <th></th>\n",
              "      <th>emotion</th>\n",
              "      <th>pixels</th>\n",
              "      <th>Usage</th>\n",
              "    </tr>\n",
              "  </thead>\n",
              "  <tbody>\n",
              "    <tr>\n",
              "      <th>0</th>\n",
              "      <td>0</td>\n",
              "      <td>70 80 82 72 58 58 60 63 54 58 60 48 89 115 121...</td>\n",
              "      <td>Training</td>\n",
              "    </tr>\n",
              "    <tr>\n",
              "      <th>1</th>\n",
              "      <td>0</td>\n",
              "      <td>151 150 147 155 148 133 111 140 170 174 182 15...</td>\n",
              "      <td>Training</td>\n",
              "    </tr>\n",
              "    <tr>\n",
              "      <th>2</th>\n",
              "      <td>2</td>\n",
              "      <td>231 212 156 164 174 138 161 173 182 200 106 38...</td>\n",
              "      <td>Training</td>\n",
              "    </tr>\n",
              "    <tr>\n",
              "      <th>3</th>\n",
              "      <td>4</td>\n",
              "      <td>24 32 36 30 32 23 19 20 30 41 21 22 32 34 21 1...</td>\n",
              "      <td>Training</td>\n",
              "    </tr>\n",
              "    <tr>\n",
              "      <th>4</th>\n",
              "      <td>6</td>\n",
              "      <td>4 0 0 0 0 0 0 0 0 0 0 0 3 15 23 28 48 50 58 84...</td>\n",
              "      <td>Training</td>\n",
              "    </tr>\n",
              "    <tr>\n",
              "      <th>...</th>\n",
              "      <td>...</td>\n",
              "      <td>...</td>\n",
              "      <td>...</td>\n",
              "    </tr>\n",
              "    <tr>\n",
              "      <th>35882</th>\n",
              "      <td>6</td>\n",
              "      <td>50 36 17 22 23 29 33 39 34 37 37 37 39 43 48 5...</td>\n",
              "      <td>PrivateTest</td>\n",
              "    </tr>\n",
              "    <tr>\n",
              "      <th>35883</th>\n",
              "      <td>3</td>\n",
              "      <td>178 174 172 173 181 188 191 194 196 199 200 20...</td>\n",
              "      <td>PrivateTest</td>\n",
              "    </tr>\n",
              "    <tr>\n",
              "      <th>35884</th>\n",
              "      <td>0</td>\n",
              "      <td>17 17 16 23 28 22 19 17 25 26 20 24 31 19 27 9...</td>\n",
              "      <td>PrivateTest</td>\n",
              "    </tr>\n",
              "    <tr>\n",
              "      <th>35885</th>\n",
              "      <td>3</td>\n",
              "      <td>30 28 28 29 31 30 42 68 79 81 77 67 67 71 63 6...</td>\n",
              "      <td>PrivateTest</td>\n",
              "    </tr>\n",
              "    <tr>\n",
              "      <th>35886</th>\n",
              "      <td>2</td>\n",
              "      <td>19 13 14 12 13 16 21 33 50 57 71 84 97 108 122...</td>\n",
              "      <td>PrivateTest</td>\n",
              "    </tr>\n",
              "  </tbody>\n",
              "</table>\n",
              "<p>35887 rows × 3 columns</p>\n",
              "</div>"
            ],
            "text/plain": [
              "       emotion                                             pixels        Usage\n",
              "0            0  70 80 82 72 58 58 60 63 54 58 60 48 89 115 121...     Training\n",
              "1            0  151 150 147 155 148 133 111 140 170 174 182 15...     Training\n",
              "2            2  231 212 156 164 174 138 161 173 182 200 106 38...     Training\n",
              "3            4  24 32 36 30 32 23 19 20 30 41 21 22 32 34 21 1...     Training\n",
              "4            6  4 0 0 0 0 0 0 0 0 0 0 0 3 15 23 28 48 50 58 84...     Training\n",
              "...        ...                                                ...          ...\n",
              "35882        6  50 36 17 22 23 29 33 39 34 37 37 37 39 43 48 5...  PrivateTest\n",
              "35883        3  178 174 172 173 181 188 191 194 196 199 200 20...  PrivateTest\n",
              "35884        0  17 17 16 23 28 22 19 17 25 26 20 24 31 19 27 9...  PrivateTest\n",
              "35885        3  30 28 28 29 31 30 42 68 79 81 77 67 67 71 63 6...  PrivateTest\n",
              "35886        2  19 13 14 12 13 16 21 33 50 57 71 84 97 108 122...  PrivateTest\n",
              "\n",
              "[35887 rows x 3 columns]"
            ]
          },
          "metadata": {
            "tags": []
          },
          "execution_count": 5
        }
      ]
    },
    {
      "cell_type": "code",
      "metadata": {
        "id": "mxbjLSplkbpY",
        "colab": {
          "base_uri": "https://localhost:8080/"
        },
        "outputId": "4640d922-4d0b-4d0c-b1bf-5d3b706dd83c"
      },
      "source": [
        "data['Usage'].value_counts()"
      ],
      "execution_count": null,
      "outputs": [
        {
          "output_type": "execute_result",
          "data": {
            "text/plain": [
              "Training       28709\n",
              "PrivateTest     3589\n",
              "PublicTest      3589\n",
              "Name: Usage, dtype: int64"
            ]
          },
          "metadata": {
            "tags": []
          },
          "execution_count": 6
        }
      ]
    },
    {
      "cell_type": "code",
      "metadata": {
        "id": "DAKojgLrpH1O",
        "colab": {
          "base_uri": "https://localhost:8080/"
        },
        "outputId": "6817124b-cd27-459c-91ba-b27daa3b748b"
      },
      "source": [
        "lst2=[]\n",
        "for i in range(data.shape[0]):\n",
        "  lst=[]\n",
        "  for j in (data[\"pixels\"][i]).split():\n",
        "    lst.append(int(j))\n",
        "  lst2.append(lst)\n",
        "x_data = np.array(lst2)\n",
        "print(x_data.shape)"
      ],
      "execution_count": null,
      "outputs": [
        {
          "output_type": "stream",
          "text": [
            "(35887, 2304)\n"
          ],
          "name": "stdout"
        }
      ]
    },
    {
      "cell_type": "markdown",
      "metadata": {
        "id": "KXHedO0eEJES"
      },
      "source": [
        "Reshape the data into suitable form"
      ]
    },
    {
      "cell_type": "code",
      "metadata": {
        "id": "zYSZh3-6s1od"
      },
      "source": [
        "x_data=x_data.reshape((35887,48,48,1))\n",
        "\n",
        "y_data=np.array(data[\"emotion\"])\n"
      ],
      "execution_count": null,
      "outputs": []
    },
    {
      "cell_type": "code",
      "metadata": {
        "id": "iuzztREn8alh",
        "colab": {
          "base_uri": "https://localhost:8080/"
        },
        "outputId": "9e05f059-93f7-41d9-b56f-8b267e1c17b0"
      },
      "source": [
        "x_train=[]\n",
        "y_train=[]\n",
        "x_val = []\n",
        "y_val = []\n",
        "x_test=[]\n",
        "y_test=[]\n",
        "for i in range(x_data.shape[0]):\n",
        "  if data[\"Usage\"][i]==\"Training\":\n",
        "    x_train.append(x_data[i])\n",
        "    y_train.append(y_data[i])\n",
        "  elif data[\"Usage\"][i] == \"PublicTest\":\n",
        "    x_val.append(x_data[i])\n",
        "    y_val.append(y_data[i])\n",
        "  else:\n",
        "    x_test.append(x_data[i])\n",
        "    y_test.append(y_data[i])\n",
        "x_train=np.array(x_train)\n",
        "y_train=np.array(y_train)\n",
        "x_val = np.array(x_val)\n",
        "y_val = np.array(y_val)\n",
        "x_test=np.array(x_test)\n",
        "y_test=np.array(y_test)\n",
        "print(x_train.shape,y_train.shape,x_test.shape,y_test.shape)"
      ],
      "execution_count": null,
      "outputs": [
        {
          "output_type": "stream",
          "text": [
            "(28709, 48, 48, 1) (28709,) (3589, 48, 48, 1) (3589,)\n"
          ],
          "name": "stdout"
        }
      ]
    },
    {
      "cell_type": "code",
      "metadata": {
        "colab": {
          "base_uri": "https://localhost:8080/",
          "height": 65
        },
        "id": "ksOXd_ytt-Ai",
        "outputId": "143004c3-8f48-4b95-b719-f463e1f66b05"
      },
      "source": [
        "i=3\n",
        "cv2_imshow(x_train[i])"
      ],
      "execution_count": null,
      "outputs": [
        {
          "output_type": "display_data",
          "data": {
            "image/png": "[encoded data removed]",
            "text/plain": [
              "<PIL.Image.Image image mode=RGB size=48x48 at 0x7F823050F790>"
            ]
          },
          "metadata": {
            "tags": []
          }
        }
      ]
    },
    {
      "cell_type": "markdown",
      "metadata": {
        "id": "Yp0l4z_yD_An"
      },
      "source": [
        "Declare the necessary hyperparameters for training our model"
      ]
    },
    {
      "cell_type": "code",
      "metadata": {
        "id": "7OM5fq0GzAAH"
      },
      "source": [
        "my_learning_rate=0.0008\n",
        "iters=120\n",
        "batch_len=64\n",
        "validation_split_ratio=0.2"
      ],
      "execution_count": null,
      "outputs": []
    },
    {
      "cell_type": "markdown",
      "metadata": {
        "id": "_fhMINRaD9Ab"
      },
      "source": [
        "Data Augmentation  \n",
        "Here ramndomly selected images from our training data will be flipped, rotated or zoomed. This will help increase the variety of data and thus improve model the model and preventing overfitting."
      ]
    },
    {
      "cell_type": "code",
      "metadata": {
        "id": "vvFe3MHxDwLB"
      },
      "source": [
        "data_augmentation = tensorflow.keras.Sequential(\n",
        "  [\n",
        "    tensorflow.keras.layers.experimental.preprocessing.RandomFlip(\"horizontal\", \n",
        "                                                 input_shape=(48,48,1)),\n",
        "    tensorflow.keras.layers.experimental.preprocessing.RandomRotation(0.1),\n",
        "    tensorflow.keras.layers.experimental.preprocessing.RandomZoom(0.05),\n",
        "  ]\n",
        ")"
      ],
      "execution_count": null,
      "outputs": []
    },
    {
      "cell_type": "markdown",
      "metadata": {
        "id": "p7f0DOFFFwO4"
      },
      "source": [
        "Creating the model  \n",
        "In this model there are 8 CNN layers with filters 16, 32, 64, 128 each 2 times. After 2 CNN layers there is a max pooling layer.  This is followed by 4 fully connected layers of units 128, 64, 32 and finally 7  i.e the output layer. In order to prevent overfitting there are dropouts of 0.25 rate and batch normalization in between."
      ]
    },
    {
      "cell_type": "code",
      "metadata": {
        "id": "dtMyvPV4DxHL"
      },
      "source": [
        "model = Sequential([  \n",
        "        tensorflow.keras.layers.InputLayer(input_shape=(48, 48, 1)),\n",
        "        data_augmentation,\n",
        "        Conv2D(16, kernel_size=(3, 3), activation='relu', padding ='same'),\n",
        "        Conv2D(16, kernel_size=(3, 3), activation='relu', padding = 'same'),\n",
        "        BatchNormalization(),\n",
        "        MaxPool2D(pool_size=(2, 2)),\n",
        "        Conv2D(32, kernel_size=(3, 3), activation='relu', padding ='same'),\n",
        "        Conv2D(32, kernel_size=(3, 3), activation='relu', padding ='same'),\n",
        "        BatchNormalization(),\n",
        "        MaxPool2D(pool_size=(2, 2)),\n",
        "        Dropout(0.25),\n",
        "        Conv2D(64, kernel_size=(3, 3), activation='relu', padding ='same'),\n",
        "        Conv2D(64, kernel_size=(3, 3), activation='relu', padding ='same'),\n",
        "        BatchNormalization(),\n",
        "        MaxPool2D(pool_size=(2, 2)),\n",
        "        Dropout(0.25),\n",
        "        Conv2D(128, kernel_size=(3, 3), activation='relu', padding ='same'),\n",
        "        Conv2D(128, kernel_size=(3, 3), activation='relu', padding ='same'),\n",
        "        BatchNormalization(),\n",
        "        MaxPool2D(pool_size=(2, 2)),\n",
        "        Dropout(0.25),\n",
        "        Flatten(),\n",
        "        Dense(128, activation=\"relu\"),\n",
        "        Dropout(0.25),\n",
        "        Dense(64, activation = \"relu\"),\n",
        "        Dropout(0.25),\n",
        "        Dense(32,activation='relu'),\n",
        "        Dropout(0.25),\n",
        "        Dense(7,activation='softmax')\n",
        "        ])"
      ],
      "execution_count": null,
      "outputs": []
    },
    {
      "cell_type": "markdown",
      "metadata": {
        "id": "AXQ09e5SHfU0"
      },
      "source": [
        "Here we finally compile our model and train it. We have used Adam optimizer and sparse categorical cross entropy as loss. "
      ]
    },
    {
      "cell_type": "code",
      "metadata": {
        "colab": {
          "base_uri": "https://localhost:8080/",
          "height": 1000
        },
        "id": "EMXEoVR3D48k",
        "outputId": "08504c12-1935-4df8-f3ff-88942a07b804"
      },
      "source": [
        "opt=tensorflow.keras.optimizers.Adam(learning_rate=my_learning_rate)\n",
        "checkpoint = keras.callbacks.ModelCheckpoint(filepath = '/content/drive/MyDrive/Moodify_weights.hdf5', monitor='val_accuracy', verbose=1, save_best_only=True, mode='max')\n",
        "model.compile(optimizer=opt,loss='sparse_categorical_crossentropy',metrics='accuracy')\n",
        "print(model.summary())\n",
        "History=model.fit(x_train,y_train,batch_size=batch_len,epochs=iters,verbose=2,validation_data = (x_val,y_val), callbacks=[checkpoint])\n",
        "index=[i for i in range(len(History.history['accuracy']))]\n",
        "plt.title(\"accuracy histoy\")\n",
        "plt.plot(index,History.history['accuracy'],'bs',label='train')\n",
        "plt.plot(index,History.history['val_accuracy'],'g^',label='validation')\n",
        "plt.legend(loc=\"upper left\")\n",
        "plt.show()\n",
        "plt.title(\"loss histoy\")\n",
        "plt.plot(index,History.history['loss'],'bs',label='train')\n",
        "plt.plot(index,History.history['val_loss'],'g^',label='validation')\n",
        "plt.legend(loc=\"upper right\")\n",
        "plt.show()"
      ],
      "execution_count": null,
      "outputs": [
        {
          "output_type": "stream",
          "text": [
            "Model: \"sequential_4\"\n",
            "_________________________________________________________________\n",
            "Layer (type)                 Output Shape              Param #   \n",
            "=================================================================\n",
            "sequential_3 (Sequential)    (None, 48, 48, 1)         0         \n",
            "_________________________________________________________________\n",
            "conv2d_16 (Conv2D)           (None, 48, 48, 16)        160       \n",
            "_________________________________________________________________\n",
            "conv2d_17 (Conv2D)           (None, 48, 48, 16)        2320      \n",
            "_________________________________________________________________\n",
            "batch_normalization_8 (Batch (None, 48, 48, 16)        64        \n",
            "_________________________________________________________________\n",
            "max_pooling2d_8 (MaxPooling2 (None, 24, 24, 16)        0         \n",
            "_________________________________________________________________\n",
            "conv2d_18 (Conv2D)           (None, 24, 24, 32)        4640      \n",
            "_________________________________________________________________\n",
            "conv2d_19 (Conv2D)           (None, 24, 24, 32)        9248      \n",
            "_________________________________________________________________\n",
            "batch_normalization_9 (Batch (None, 24, 24, 32)        128       \n",
            "_________________________________________________________________\n",
            "max_pooling2d_9 (MaxPooling2 (None, 12, 12, 32)        0         \n",
            "_________________________________________________________________\n",
            "dropout_12 (Dropout)         (None, 12, 12, 32)        0         \n",
            "_________________________________________________________________\n",
            "conv2d_20 (Conv2D)           (None, 12, 12, 64)        18496     \n",
            "_________________________________________________________________\n",
            "conv2d_21 (Conv2D)           (None, 12, 12, 64)        36928     \n",
            "_________________________________________________________________\n",
            "batch_normalization_10 (Batc (None, 12, 12, 64)        256       \n",
            "_________________________________________________________________\n",
            "max_pooling2d_10 (MaxPooling (None, 6, 6, 64)          0         \n",
            "_________________________________________________________________\n",
            "dropout_13 (Dropout)         (None, 6, 6, 64)          0         \n",
            "_________________________________________________________________\n",
            "conv2d_22 (Conv2D)           (None, 6, 6, 128)         73856     \n",
            "_________________________________________________________________\n",
            "conv2d_23 (Conv2D)           (None, 6, 6, 128)         147584    \n",
            "_________________________________________________________________\n",
            "batch_normalization_11 (Batc (None, 6, 6, 128)         512       \n",
            "_________________________________________________________________\n",
            "max_pooling2d_11 (MaxPooling (None, 3, 3, 128)         0         \n",
            "_________________________________________________________________\n",
            "dropout_14 (Dropout)         (None, 3, 3, 128)         0         \n",
            "_________________________________________________________________\n",
            "flatten_2 (Flatten)          (None, 1152)              0         \n",
            "_________________________________________________________________\n",
            "dense_8 (Dense)              (None, 128)               147584    \n",
            "_________________________________________________________________\n",
            "dropout_15 (Dropout)         (None, 128)               0         \n",
            "_________________________________________________________________\n",
            "dense_9 (Dense)              (None, 64)                8256      \n",
            "_________________________________________________________________\n",
            "dropout_16 (Dropout)         (None, 64)                0         \n",
            "_________________________________________________________________\n",
            "dense_10 (Dense)             (None, 32)                2080      \n",
            "_________________________________________________________________\n",
            "dropout_17 (Dropout)         (None, 32)                0         \n",
            "_________________________________________________________________\n",
            "dense_11 (Dense)             (None, 7)                 231       \n",
            "=================================================================\n",
            "Total params: 452,343\n",
            "Trainable params: 451,863\n",
            "Non-trainable params: 480\n",
            "_________________________________________________________________\n",
            "None\n",
            "Epoch 1/120\n",
            "449/449 - 7s - loss: 1.8704 - accuracy: 0.2193 - val_loss: 1.7993 - val_accuracy: 0.2586\n",
            "\n",
            "Epoch 00001: val_accuracy improved from -inf to 0.25857, saving model to /content/drive/MyDrive/Moodify_weights.hdf5\n",
            "Epoch 2/120\n",
            "449/449 - 5s - loss: 1.7863 - accuracy: 0.2646 - val_loss: 1.7259 - val_accuracy: 0.2942\n",
            "\n",
            "Epoch 00002: val_accuracy improved from 0.25857 to 0.29423, saving model to /content/drive/MyDrive/Moodify_weights.hdf5\n",
            "Epoch 3/120\n",
            "449/449 - 5s - loss: 1.7483 - accuracy: 0.2828 - val_loss: 1.7390 - val_accuracy: 0.2781\n",
            "\n",
            "Epoch 00003: val_accuracy did not improve from 0.29423\n",
            "Epoch 4/120\n",
            "449/449 - 5s - loss: 1.6873 - accuracy: 0.3137 - val_loss: 1.6426 - val_accuracy: 0.3580\n",
            "\n",
            "Epoch 00004: val_accuracy improved from 0.29423 to 0.35804, saving model to /content/drive/MyDrive/Moodify_weights.hdf5\n",
            "Epoch 5/120\n",
            "449/449 - 5s - loss: 1.6218 - accuracy: 0.3514 - val_loss: 1.4710 - val_accuracy: 0.4104\n",
            "\n",
            "Epoch 00005: val_accuracy improved from 0.35804 to 0.41042, saving model to /content/drive/MyDrive/Moodify_weights.hdf5\n",
            "Epoch 6/120\n",
            "449/449 - 5s - loss: 1.5504 - accuracy: 0.3846 - val_loss: 1.4742 - val_accuracy: 0.4048\n",
            "\n",
            "Epoch 00006: val_accuracy did not improve from 0.41042\n",
            "Epoch 7/120\n",
            "449/449 - 5s - loss: 1.5138 - accuracy: 0.3971 - val_loss: 1.4088 - val_accuracy: 0.4308\n",
            "\n",
            "Epoch 00007: val_accuracy improved from 0.41042 to 0.43076, saving model to /content/drive/MyDrive/Moodify_weights.hdf5\n",
            "Epoch 8/120\n",
            "449/449 - 5s - loss: 1.4741 - accuracy: 0.4161 - val_loss: 1.4229 - val_accuracy: 0.4319\n",
            "\n",
            "Epoch 00008: val_accuracy improved from 0.43076 to 0.43188, saving model to /content/drive/MyDrive/Moodify_weights.hdf5\n",
            "Epoch 9/120\n",
            "449/449 - 5s - loss: 1.4524 - accuracy: 0.4226 - val_loss: 1.3834 - val_accuracy: 0.4430\n",
            "\n",
            "Epoch 00009: val_accuracy improved from 0.43188 to 0.44302, saving model to /content/drive/MyDrive/Moodify_weights.hdf5\n",
            "Epoch 10/120\n",
            "449/449 - 5s - loss: 1.4357 - accuracy: 0.4336 - val_loss: 1.3587 - val_accuracy: 0.4544\n",
            "\n",
            "Epoch 00010: val_accuracy improved from 0.44302 to 0.45444, saving model to /content/drive/MyDrive/Moodify_weights.hdf5\n",
            "Epoch 11/120\n",
            "449/449 - 5s - loss: 1.4100 - accuracy: 0.4498 - val_loss: 1.3557 - val_accuracy: 0.4837\n",
            "\n",
            "Epoch 00011: val_accuracy improved from 0.45444 to 0.48370, saving model to /content/drive/MyDrive/Moodify_weights.hdf5\n",
            "Epoch 12/120\n",
            "449/449 - 5s - loss: 1.3892 - accuracy: 0.4655 - val_loss: 1.3667 - val_accuracy: 0.4806\n",
            "\n",
            "Epoch 00012: val_accuracy did not improve from 0.48370\n",
            "Epoch 13/120\n",
            "449/449 - 5s - loss: 1.3727 - accuracy: 0.4719 - val_loss: 1.3059 - val_accuracy: 0.5052\n",
            "\n",
            "Epoch 00013: val_accuracy improved from 0.48370 to 0.50515, saving model to /content/drive/MyDrive/Moodify_weights.hdf5\n",
            "Epoch 14/120\n",
            "449/449 - 5s - loss: 1.3526 - accuracy: 0.4840 - val_loss: 1.2580 - val_accuracy: 0.5196\n",
            "\n",
            "Epoch 00014: val_accuracy improved from 0.50515 to 0.51964, saving model to /content/drive/MyDrive/Moodify_weights.hdf5\n",
            "Epoch 15/120\n",
            "449/449 - 5s - loss: 1.3328 - accuracy: 0.4866 - val_loss: 1.2811 - val_accuracy: 0.5099\n",
            "\n",
            "Epoch 00015: val_accuracy did not improve from 0.51964\n",
            "Epoch 16/120\n",
            "449/449 - 5s - loss: 1.3161 - accuracy: 0.4980 - val_loss: 1.2622 - val_accuracy: 0.5138\n",
            "\n",
            "Epoch 00016: val_accuracy did not improve from 0.51964\n",
            "Epoch 17/120\n",
            "449/449 - 5s - loss: 1.3079 - accuracy: 0.5048 - val_loss: 1.2302 - val_accuracy: 0.5294\n",
            "\n",
            "Epoch 00017: val_accuracy improved from 0.51964 to 0.52940, saving model to /content/drive/MyDrive/Moodify_weights.hdf5\n",
            "Epoch 18/120\n",
            "449/449 - 5s - loss: 1.3003 - accuracy: 0.5094 - val_loss: 1.2009 - val_accuracy: 0.5439\n",
            "\n",
            "Epoch 00018: val_accuracy improved from 0.52940 to 0.54388, saving model to /content/drive/MyDrive/Moodify_weights.hdf5\n",
            "Epoch 19/120\n",
            "449/449 - 5s - loss: 1.2848 - accuracy: 0.5118 - val_loss: 1.2199 - val_accuracy: 0.5347\n",
            "\n",
            "Epoch 00019: val_accuracy did not improve from 0.54388\n",
            "Epoch 20/120\n",
            "449/449 - 5s - loss: 1.2783 - accuracy: 0.5153 - val_loss: 1.1950 - val_accuracy: 0.5464\n",
            "\n",
            "Epoch 00020: val_accuracy improved from 0.54388 to 0.54639, saving model to /content/drive/MyDrive/Moodify_weights.hdf5\n",
            "Epoch 21/120\n",
            "449/449 - 5s - loss: 1.2677 - accuracy: 0.5218 - val_loss: 1.2183 - val_accuracy: 0.5325\n",
            "\n",
            "Epoch 00021: val_accuracy did not improve from 0.54639\n",
            "Epoch 22/120\n",
            "449/449 - 5s - loss: 1.2606 - accuracy: 0.5217 - val_loss: 1.1772 - val_accuracy: 0.5528\n",
            "\n",
            "Epoch 00022: val_accuracy improved from 0.54639 to 0.55280, saving model to /content/drive/MyDrive/Moodify_weights.hdf5\n",
            "Epoch 23/120\n",
            "449/449 - 5s - loss: 1.2503 - accuracy: 0.5294 - val_loss: 1.1880 - val_accuracy: 0.5595\n",
            "\n",
            "Epoch 00023: val_accuracy improved from 0.55280 to 0.55949, saving model to /content/drive/MyDrive/Moodify_weights.hdf5\n",
            "Epoch 24/120\n",
            "449/449 - 5s - loss: 1.2478 - accuracy: 0.5322 - val_loss: 1.2186 - val_accuracy: 0.5428\n",
            "\n",
            "Epoch 00024: val_accuracy did not improve from 0.55949\n",
            "Epoch 25/120\n",
            "449/449 - 5s - loss: 1.2388 - accuracy: 0.5334 - val_loss: 1.2274 - val_accuracy: 0.5481\n",
            "\n",
            "Epoch 00025: val_accuracy did not improve from 0.55949\n",
            "Epoch 26/120\n",
            "449/449 - 5s - loss: 1.2364 - accuracy: 0.5359 - val_loss: 1.1792 - val_accuracy: 0.5467\n",
            "\n",
            "Epoch 00026: val_accuracy did not improve from 0.55949\n",
            "Epoch 27/120\n",
            "449/449 - 5s - loss: 1.2259 - accuracy: 0.5405 - val_loss: 1.1746 - val_accuracy: 0.5639\n",
            "\n",
            "Epoch 00027: val_accuracy improved from 0.55949 to 0.56395, saving model to /content/drive/MyDrive/Moodify_weights.hdf5\n",
            "Epoch 28/120\n",
            "449/449 - 5s - loss: 1.2222 - accuracy: 0.5421 - val_loss: 1.1797 - val_accuracy: 0.5472\n",
            "\n",
            "Epoch 00028: val_accuracy did not improve from 0.56395\n",
            "Epoch 29/120\n",
            "449/449 - 5s - loss: 1.2152 - accuracy: 0.5494 - val_loss: 1.1403 - val_accuracy: 0.5690\n",
            "\n",
            "Epoch 00029: val_accuracy improved from 0.56395 to 0.56896, saving model to /content/drive/MyDrive/Moodify_weights.hdf5\n",
            "Epoch 30/120\n",
            "449/449 - 5s - loss: 1.2088 - accuracy: 0.5513 - val_loss: 1.2076 - val_accuracy: 0.5313\n",
            "\n",
            "Epoch 00030: val_accuracy did not improve from 0.56896\n",
            "Epoch 31/120\n",
            "449/449 - 5s - loss: 1.2068 - accuracy: 0.5476 - val_loss: 1.1753 - val_accuracy: 0.5522\n",
            "\n",
            "Epoch 00031: val_accuracy did not improve from 0.56896\n",
            "Epoch 32/120\n",
            "449/449 - 5s - loss: 1.2021 - accuracy: 0.5494 - val_loss: 1.1727 - val_accuracy: 0.5559\n",
            "\n",
            "Epoch 00032: val_accuracy did not improve from 0.56896\n",
            "Epoch 33/120\n",
            "449/449 - 5s - loss: 1.1902 - accuracy: 0.5584 - val_loss: 1.1482 - val_accuracy: 0.5734\n",
            "\n",
            "Epoch 00033: val_accuracy improved from 0.56896 to 0.57342, saving model to /content/drive/MyDrive/Moodify_weights.hdf5\n",
            "Epoch 34/120\n",
            "449/449 - 5s - loss: 1.1880 - accuracy: 0.5592 - val_loss: 1.1197 - val_accuracy: 0.5829\n",
            "\n",
            "Epoch 00034: val_accuracy improved from 0.57342 to 0.58289, saving model to /content/drive/MyDrive/Moodify_weights.hdf5\n",
            "Epoch 35/120\n",
            "449/449 - 5s - loss: 1.1823 - accuracy: 0.5588 - val_loss: 1.1300 - val_accuracy: 0.5651\n",
            "\n",
            "Epoch 00035: val_accuracy did not improve from 0.58289\n",
            "Epoch 36/120\n",
            "449/449 - 5s - loss: 1.1773 - accuracy: 0.5639 - val_loss: 1.1146 - val_accuracy: 0.5787\n",
            "\n",
            "Epoch 00036: val_accuracy did not improve from 0.58289\n",
            "Epoch 37/120\n",
            "449/449 - 5s - loss: 1.1653 - accuracy: 0.5689 - val_loss: 1.1349 - val_accuracy: 0.5821\n",
            "\n",
            "Epoch 00037: val_accuracy did not improve from 0.58289\n",
            "Epoch 38/120\n",
            "449/449 - 5s - loss: 1.1661 - accuracy: 0.5681 - val_loss: 1.1108 - val_accuracy: 0.5904\n",
            "\n",
            "Epoch 00038: val_accuracy improved from 0.58289 to 0.59042, saving model to /content/drive/MyDrive/Moodify_weights.hdf5\n",
            "Epoch 39/120\n",
            "449/449 - 5s - loss: 1.1665 - accuracy: 0.5670 - val_loss: 1.1252 - val_accuracy: 0.5695\n",
            "\n",
            "Epoch 00039: val_accuracy did not improve from 0.59042\n",
            "Epoch 40/120\n",
            "449/449 - 5s - loss: 1.1536 - accuracy: 0.5754 - val_loss: 1.1308 - val_accuracy: 0.5748\n",
            "\n",
            "Epoch 00040: val_accuracy did not improve from 0.59042\n",
            "Epoch 41/120\n",
            "449/449 - 5s - loss: 1.1552 - accuracy: 0.5742 - val_loss: 1.0784 - val_accuracy: 0.6027\n",
            "\n",
            "Epoch 00041: val_accuracy improved from 0.59042 to 0.60267, saving model to /content/drive/MyDrive/Moodify_weights.hdf5\n",
            "Epoch 42/120\n",
            "449/449 - 5s - loss: 1.1408 - accuracy: 0.5776 - val_loss: 1.1181 - val_accuracy: 0.5759\n",
            "\n",
            "Epoch 00042: val_accuracy did not improve from 0.60267\n",
            "Epoch 43/120\n",
            "449/449 - 5s - loss: 1.1365 - accuracy: 0.5809 - val_loss: 1.1349 - val_accuracy: 0.5762\n",
            "\n",
            "Epoch 00043: val_accuracy did not improve from 0.60267\n",
            "Epoch 44/120\n",
            "449/449 - 5s - loss: 1.1391 - accuracy: 0.5791 - val_loss: 1.1059 - val_accuracy: 0.5804\n",
            "\n",
            "Epoch 00044: val_accuracy did not improve from 0.60267\n",
            "Epoch 45/120\n",
            "449/449 - 5s - loss: 1.1356 - accuracy: 0.5795 - val_loss: 1.1016 - val_accuracy: 0.5907\n",
            "\n",
            "Epoch 00045: val_accuracy did not improve from 0.60267\n",
            "Epoch 46/120\n",
            "449/449 - 5s - loss: 1.1287 - accuracy: 0.5831 - val_loss: 1.1023 - val_accuracy: 0.5896\n",
            "\n",
            "Epoch 00046: val_accuracy did not improve from 0.60267\n",
            "Epoch 47/120\n",
            "449/449 - 5s - loss: 1.1273 - accuracy: 0.5842 - val_loss: 1.0972 - val_accuracy: 0.5876\n",
            "\n",
            "Epoch 00047: val_accuracy did not improve from 0.60267\n",
            "Epoch 48/120\n",
            "449/449 - 5s - loss: 1.1222 - accuracy: 0.5896 - val_loss: 1.1101 - val_accuracy: 0.5865\n",
            "\n",
            "Epoch 00048: val_accuracy did not improve from 0.60267\n",
            "Epoch 49/120\n",
            "449/449 - 5s - loss: 1.1208 - accuracy: 0.5881 - val_loss: 1.1107 - val_accuracy: 0.5854\n",
            "\n",
            "Epoch 00049: val_accuracy did not improve from 0.60267\n",
            "Epoch 50/120\n",
            "449/449 - 5s - loss: 1.1172 - accuracy: 0.5904 - val_loss: 1.0987 - val_accuracy: 0.5851\n",
            "\n",
            "Epoch 00050: val_accuracy did not improve from 0.60267\n",
            "Epoch 51/120\n",
            "449/449 - 5s - loss: 1.1099 - accuracy: 0.5915 - val_loss: 1.1128 - val_accuracy: 0.5812\n",
            "\n",
            "Epoch 00051: val_accuracy did not improve from 0.60267\n",
            "Epoch 52/120\n",
            "449/449 - 5s - loss: 1.1017 - accuracy: 0.5933 - val_loss: 1.0837 - val_accuracy: 0.5957\n",
            "\n",
            "Epoch 00052: val_accuracy did not improve from 0.60267\n",
            "Epoch 53/120\n",
            "449/449 - 5s - loss: 1.1119 - accuracy: 0.5888 - val_loss: 1.0678 - val_accuracy: 0.6021\n",
            "\n",
            "Epoch 00053: val_accuracy did not improve from 0.60267\n",
            "Epoch 54/120\n",
            "449/449 - 5s - loss: 1.1021 - accuracy: 0.5944 - val_loss: 1.0774 - val_accuracy: 0.5965\n",
            "\n",
            "Epoch 00054: val_accuracy did not improve from 0.60267\n",
            "Epoch 55/120\n",
            "449/449 - 5s - loss: 1.0967 - accuracy: 0.5937 - val_loss: 1.0872 - val_accuracy: 0.5979\n",
            "\n",
            "Epoch 00055: val_accuracy did not improve from 0.60267\n",
            "Epoch 56/120\n",
            "449/449 - 5s - loss: 1.0957 - accuracy: 0.5946 - val_loss: 1.1051 - val_accuracy: 0.5823\n",
            "\n",
            "Epoch 00056: val_accuracy did not improve from 0.60267\n",
            "Epoch 57/120\n",
            "449/449 - 5s - loss: 1.0880 - accuracy: 0.6011 - val_loss: 1.0730 - val_accuracy: 0.5988\n",
            "\n",
            "Epoch 00057: val_accuracy did not improve from 0.60267\n",
            "Epoch 58/120\n",
            "449/449 - 5s - loss: 1.0901 - accuracy: 0.5985 - val_loss: 1.0753 - val_accuracy: 0.5968\n",
            "\n",
            "Epoch 00058: val_accuracy did not improve from 0.60267\n",
            "Epoch 59/120\n",
            "449/449 - 5s - loss: 1.0914 - accuracy: 0.5971 - val_loss: 1.0702 - val_accuracy: 0.5949\n",
            "\n",
            "Epoch 00059: val_accuracy did not improve from 0.60267\n",
            "Epoch 60/120\n",
            "449/449 - 5s - loss: 1.0865 - accuracy: 0.5977 - val_loss: 1.0558 - val_accuracy: 0.6027\n",
            "\n",
            "Epoch 00060: val_accuracy did not improve from 0.60267\n",
            "Epoch 61/120\n",
            "449/449 - 5s - loss: 1.0805 - accuracy: 0.6021 - val_loss: 1.0618 - val_accuracy: 0.6138\n",
            "\n",
            "Epoch 00061: val_accuracy improved from 0.60267 to 0.61382, saving model to /content/drive/MyDrive/Moodify_weights.hdf5\n",
            "Epoch 62/120\n",
            "449/449 - 5s - loss: 1.0729 - accuracy: 0.6045 - val_loss: 1.0570 - val_accuracy: 0.5949\n",
            "\n",
            "Epoch 00062: val_accuracy did not improve from 0.61382\n",
            "Epoch 63/120\n",
            "449/449 - 5s - loss: 1.0712 - accuracy: 0.6050 - val_loss: 1.0817 - val_accuracy: 0.5991\n",
            "\n",
            "Epoch 00063: val_accuracy did not improve from 0.61382\n",
            "Epoch 64/120\n",
            "449/449 - 5s - loss: 1.0701 - accuracy: 0.6082 - val_loss: 1.0719 - val_accuracy: 0.6049\n",
            "\n",
            "Epoch 00064: val_accuracy did not improve from 0.61382\n",
            "Epoch 65/120\n",
            "449/449 - 5s - loss: 1.0714 - accuracy: 0.6051 - val_loss: 1.0378 - val_accuracy: 0.6071\n",
            "\n",
            "Epoch 00065: val_accuracy did not improve from 0.61382\n",
            "Epoch 66/120\n",
            "449/449 - 5s - loss: 1.0733 - accuracy: 0.6057 - val_loss: 1.0408 - val_accuracy: 0.6135\n",
            "\n",
            "Epoch 00066: val_accuracy did not improve from 0.61382\n",
            "Epoch 67/120\n",
            "449/449 - 5s - loss: 1.0632 - accuracy: 0.6097 - val_loss: 1.0666 - val_accuracy: 0.5943\n",
            "\n",
            "Epoch 00067: val_accuracy did not improve from 0.61382\n",
            "Epoch 68/120\n",
            "449/449 - 5s - loss: 1.0619 - accuracy: 0.6070 - val_loss: 1.0494 - val_accuracy: 0.6018\n",
            "\n",
            "Epoch 00068: val_accuracy did not improve from 0.61382\n",
            "Epoch 69/120\n",
            "449/449 - 5s - loss: 1.0604 - accuracy: 0.6093 - val_loss: 1.0405 - val_accuracy: 0.6063\n",
            "\n",
            "Epoch 00069: val_accuracy did not improve from 0.61382\n",
            "Epoch 70/120\n",
            "449/449 - 5s - loss: 1.0554 - accuracy: 0.6110 - val_loss: 1.0623 - val_accuracy: 0.6030\n",
            "\n",
            "Epoch 00070: val_accuracy did not improve from 0.61382\n",
            "Epoch 71/120\n",
            "449/449 - 5s - loss: 1.0561 - accuracy: 0.6119 - val_loss: 1.0336 - val_accuracy: 0.6147\n",
            "\n",
            "Epoch 00071: val_accuracy improved from 0.61382 to 0.61466, saving model to /content/drive/MyDrive/Moodify_weights.hdf5\n",
            "Epoch 72/120\n",
            "449/449 - 5s - loss: 1.0485 - accuracy: 0.6127 - val_loss: 1.0514 - val_accuracy: 0.6007\n",
            "\n",
            "Epoch 00072: val_accuracy did not improve from 0.61466\n",
            "Epoch 73/120\n",
            "449/449 - 5s - loss: 1.0550 - accuracy: 0.6144 - val_loss: 1.0468 - val_accuracy: 0.6066\n",
            "\n",
            "Epoch 00073: val_accuracy did not improve from 0.61466\n",
            "Epoch 74/120\n",
            "449/449 - 5s - loss: 1.0505 - accuracy: 0.6139 - val_loss: 1.0432 - val_accuracy: 0.6049\n",
            "\n",
            "Epoch 00074: val_accuracy did not improve from 0.61466\n",
            "Epoch 75/120\n",
            "449/449 - 5s - loss: 1.0479 - accuracy: 0.6169 - val_loss: 1.0560 - val_accuracy: 0.6060\n",
            "\n",
            "Epoch 00075: val_accuracy did not improve from 0.61466\n",
            "Epoch 76/120\n",
            "449/449 - 5s - loss: 1.0528 - accuracy: 0.6144 - val_loss: 1.0614 - val_accuracy: 0.6080\n",
            "\n",
            "Epoch 00076: val_accuracy did not improve from 0.61466\n",
            "Epoch 77/120\n",
            "449/449 - 5s - loss: 1.0413 - accuracy: 0.6176 - val_loss: 1.0472 - val_accuracy: 0.6080\n",
            "\n",
            "Epoch 00077: val_accuracy did not improve from 0.61466\n",
            "Epoch 78/120\n",
            "449/449 - 5s - loss: 1.0445 - accuracy: 0.6162 - val_loss: 1.0248 - val_accuracy: 0.6225\n",
            "\n",
            "Epoch 00078: val_accuracy improved from 0.61466 to 0.62246, saving model to /content/drive/MyDrive/Moodify_weights.hdf5\n",
            "Epoch 79/120\n",
            "449/449 - 5s - loss: 1.0322 - accuracy: 0.6157 - val_loss: 1.0675 - val_accuracy: 0.5996\n",
            "\n",
            "Epoch 00079: val_accuracy did not improve from 0.62246\n",
            "Epoch 80/120\n",
            "449/449 - 5s - loss: 1.0398 - accuracy: 0.6178 - val_loss: 1.0536 - val_accuracy: 0.6077\n",
            "\n",
            "Epoch 00080: val_accuracy did not improve from 0.62246\n",
            "Epoch 81/120\n",
            "449/449 - 5s - loss: 1.0357 - accuracy: 0.6196 - val_loss: 1.0462 - val_accuracy: 0.6027\n",
            "\n",
            "Epoch 00081: val_accuracy did not improve from 0.62246\n",
            "Epoch 82/120\n",
            "449/449 - 5s - loss: 1.0365 - accuracy: 0.6161 - val_loss: 1.0668 - val_accuracy: 0.5999\n",
            "\n",
            "Epoch 00082: val_accuracy did not improve from 0.62246\n",
            "Epoch 83/120\n",
            "449/449 - 5s - loss: 1.0351 - accuracy: 0.6205 - val_loss: 1.0649 - val_accuracy: 0.6032\n",
            "\n",
            "Epoch 00083: val_accuracy did not improve from 0.62246\n",
            "Epoch 84/120\n",
            "449/449 - 5s - loss: 1.0375 - accuracy: 0.6153 - val_loss: 1.0438 - val_accuracy: 0.6110\n",
            "\n",
            "Epoch 00084: val_accuracy did not improve from 0.62246\n",
            "Epoch 85/120\n",
            "449/449 - 5s - loss: 1.0331 - accuracy: 0.6191 - val_loss: 1.0609 - val_accuracy: 0.6113\n",
            "\n",
            "Epoch 00085: val_accuracy did not improve from 0.62246\n",
            "Epoch 86/120\n",
            "449/449 - 5s - loss: 1.0298 - accuracy: 0.6217 - val_loss: 1.0370 - val_accuracy: 0.6063\n",
            "\n",
            "Epoch 00086: val_accuracy did not improve from 0.62246\n",
            "Epoch 87/120\n",
            "449/449 - 5s - loss: 1.0249 - accuracy: 0.6235 - val_loss: 1.0363 - val_accuracy: 0.6091\n",
            "\n",
            "Epoch 00087: val_accuracy did not improve from 0.62246\n",
            "Epoch 88/120\n",
            "449/449 - 5s - loss: 1.0264 - accuracy: 0.6194 - val_loss: 1.0119 - val_accuracy: 0.6158\n",
            "\n",
            "Epoch 00088: val_accuracy did not improve from 0.62246\n",
            "Epoch 89/120\n",
            "449/449 - 5s - loss: 1.0164 - accuracy: 0.6255 - val_loss: 1.0146 - val_accuracy: 0.6222\n",
            "\n",
            "Epoch 00089: val_accuracy did not improve from 0.62246\n",
            "Epoch 90/120\n",
            "449/449 - 5s - loss: 1.0154 - accuracy: 0.6271 - val_loss: 1.0358 - val_accuracy: 0.6077\n",
            "\n",
            "Epoch 00090: val_accuracy did not improve from 0.62246\n",
            "Epoch 91/120\n",
            "449/449 - 5s - loss: 1.0172 - accuracy: 0.6266 - val_loss: 1.0562 - val_accuracy: 0.6108\n",
            "\n",
            "Epoch 00091: val_accuracy did not improve from 0.62246\n",
            "Epoch 92/120\n",
            "449/449 - 5s - loss: 1.0165 - accuracy: 0.6240 - val_loss: 1.0264 - val_accuracy: 0.6188\n",
            "\n",
            "Epoch 00092: val_accuracy did not improve from 0.62246\n",
            "Epoch 93/120\n",
            "449/449 - 5s - loss: 1.0183 - accuracy: 0.6246 - val_loss: 1.0479 - val_accuracy: 0.6166\n",
            "\n",
            "Epoch 00093: val_accuracy did not improve from 0.62246\n",
            "Epoch 94/120\n",
            "449/449 - 5s - loss: 1.0168 - accuracy: 0.6250 - val_loss: 1.0109 - val_accuracy: 0.6308\n",
            "\n",
            "Epoch 00094: val_accuracy improved from 0.62246 to 0.63082, saving model to /content/drive/MyDrive/Moodify_weights.hdf5\n",
            "Epoch 95/120\n",
            "449/449 - 5s - loss: 1.0099 - accuracy: 0.6271 - val_loss: 1.0339 - val_accuracy: 0.6133\n",
            "\n",
            "Epoch 00095: val_accuracy did not improve from 0.63082\n",
            "Epoch 96/120\n",
            "449/449 - 5s - loss: 1.0122 - accuracy: 0.6290 - val_loss: 1.0306 - val_accuracy: 0.6147\n",
            "\n",
            "Epoch 00096: val_accuracy did not improve from 0.63082\n",
            "Epoch 97/120\n",
            "449/449 - 5s - loss: 1.0101 - accuracy: 0.6267 - val_loss: 1.0235 - val_accuracy: 0.6141\n",
            "\n",
            "Epoch 00097: val_accuracy did not improve from 0.63082\n",
            "Epoch 98/120\n",
            "449/449 - 5s - loss: 1.0059 - accuracy: 0.6302 - val_loss: 1.0223 - val_accuracy: 0.6239\n",
            "\n",
            "Epoch 00098: val_accuracy did not improve from 0.63082\n",
            "Epoch 99/120\n",
            "449/449 - 5s - loss: 1.0049 - accuracy: 0.6307 - val_loss: 1.0470 - val_accuracy: 0.6082\n",
            "\n",
            "Epoch 00099: val_accuracy did not improve from 0.63082\n",
            "Epoch 100/120\n",
            "449/449 - 5s - loss: 1.0029 - accuracy: 0.6304 - val_loss: 1.0214 - val_accuracy: 0.6213\n",
            "\n",
            "Epoch 00100: val_accuracy did not improve from 0.63082\n",
            "Epoch 101/120\n",
            "449/449 - 5s - loss: 1.0060 - accuracy: 0.6290 - val_loss: 1.0118 - val_accuracy: 0.6183\n",
            "\n",
            "Epoch 00101: val_accuracy did not improve from 0.63082\n",
            "Epoch 102/120\n",
            "449/449 - 5s - loss: 1.0010 - accuracy: 0.6318 - val_loss: 1.1145 - val_accuracy: 0.5926\n",
            "\n",
            "Epoch 00102: val_accuracy did not improve from 0.63082\n",
            "Epoch 103/120\n",
            "449/449 - 5s - loss: 0.9987 - accuracy: 0.6335 - val_loss: 1.0236 - val_accuracy: 0.6303\n",
            "\n",
            "Epoch 00103: val_accuracy did not improve from 0.63082\n",
            "Epoch 104/120\n",
            "449/449 - 5s - loss: 0.9922 - accuracy: 0.6342 - val_loss: 1.0515 - val_accuracy: 0.6099\n",
            "\n",
            "Epoch 00104: val_accuracy did not improve from 0.63082\n",
            "Epoch 105/120\n",
            "449/449 - 5s - loss: 0.9985 - accuracy: 0.6376 - val_loss: 1.0346 - val_accuracy: 0.6130\n",
            "\n",
            "Epoch 00105: val_accuracy did not improve from 0.63082\n",
            "Epoch 106/120\n",
            "449/449 - 5s - loss: 0.9935 - accuracy: 0.6338 - val_loss: 1.0392 - val_accuracy: 0.6186\n",
            "\n",
            "Epoch 00106: val_accuracy did not improve from 0.63082\n",
            "Epoch 107/120\n",
            "449/449 - 5s - loss: 0.9888 - accuracy: 0.6359 - val_loss: 0.9982 - val_accuracy: 0.6319\n",
            "\n",
            "Epoch 00107: val_accuracy improved from 0.63082 to 0.63193, saving model to /content/drive/MyDrive/Moodify_weights.hdf5\n",
            "Epoch 108/120\n",
            "449/449 - 5s - loss: 0.9916 - accuracy: 0.6331 - val_loss: 1.0239 - val_accuracy: 0.6258\n",
            "\n",
            "Epoch 00108: val_accuracy did not improve from 0.63193\n",
            "Epoch 109/120\n",
            "449/449 - 5s - loss: 0.9923 - accuracy: 0.6354 - val_loss: 1.0235 - val_accuracy: 0.6236\n",
            "\n",
            "Epoch 00109: val_accuracy did not improve from 0.63193\n",
            "Epoch 110/120\n",
            "449/449 - 5s - loss: 0.9901 - accuracy: 0.6375 - val_loss: 1.0249 - val_accuracy: 0.6199\n",
            "\n",
            "Epoch 00110: val_accuracy did not improve from 0.63193\n",
            "Epoch 111/120\n",
            "449/449 - 5s - loss: 0.9881 - accuracy: 0.6357 - val_loss: 1.0235 - val_accuracy: 0.6261\n",
            "\n",
            "Epoch 00111: val_accuracy did not improve from 0.63193\n",
            "Epoch 112/120\n",
            "449/449 - 5s - loss: 0.9887 - accuracy: 0.6365 - val_loss: 1.0109 - val_accuracy: 0.6211\n",
            "\n",
            "Epoch 00112: val_accuracy did not improve from 0.63193\n",
            "Epoch 113/120\n",
            "449/449 - 5s - loss: 0.9813 - accuracy: 0.6373 - val_loss: 1.0190 - val_accuracy: 0.6186\n",
            "\n",
            "Epoch 00113: val_accuracy did not improve from 0.63193\n",
            "Epoch 114/120\n",
            "449/449 - 5s - loss: 0.9859 - accuracy: 0.6372 - val_loss: 1.0651 - val_accuracy: 0.6138\n",
            "\n",
            "Epoch 00114: val_accuracy did not improve from 0.63193\n",
            "Epoch 115/120\n",
            "449/449 - 5s - loss: 0.9795 - accuracy: 0.6395 - val_loss: 1.0310 - val_accuracy: 0.6124\n",
            "\n",
            "Epoch 00115: val_accuracy did not improve from 0.63193\n",
            "Epoch 116/120\n",
            "449/449 - 5s - loss: 0.9807 - accuracy: 0.6376 - val_loss: 1.0171 - val_accuracy: 0.6272\n",
            "\n",
            "Epoch 00116: val_accuracy did not improve from 0.63193\n",
            "Epoch 117/120\n",
            "449/449 - 5s - loss: 0.9876 - accuracy: 0.6360 - val_loss: 1.0050 - val_accuracy: 0.6208\n",
            "\n",
            "Epoch 00117: val_accuracy did not improve from 0.63193\n",
            "Epoch 118/120\n",
            "449/449 - 5s - loss: 0.9846 - accuracy: 0.6388 - val_loss: 1.0087 - val_accuracy: 0.6305\n",
            "\n",
            "Epoch 00118: val_accuracy did not improve from 0.63193\n",
            "Epoch 119/120\n",
            "449/449 - 5s - loss: 0.9731 - accuracy: 0.6417 - val_loss: 1.0367 - val_accuracy: 0.6211\n",
            "\n",
            "Epoch 00119: val_accuracy did not improve from 0.63193\n",
            "Epoch 120/120\n",
            "449/449 - 5s - loss: 0.9749 - accuracy: 0.6416 - val_loss: 1.0334 - val_accuracy: 0.6158\n",
            "\n",
            "Epoch 00120: val_accuracy did not improve from 0.63193\n"
          ],
          "name": "stdout"
        },
        {
          "output_type": "display_data",
          "data": {
            "image/png": "[encoded data removed]",
            "text/plain": [
              "<Figure size 432x288 with 1 Axes>"
            ]
          },
          "metadata": {
            "tags": [],
            "needs_background": "light"
          }
        },
        {
          "output_type": "display_data",
          "data": {
            "image/png": "[encoded data removed]",
            "text/plain": [
              "<Figure size 432x288 with 1 Axes>"
            ]
          },
          "metadata": {
            "tags": [],
            "needs_background": "light"
          }
        }
      ]
    },
    {
      "cell_type": "code",
      "metadata": {
        "colab": {
          "base_uri": "https://localhost:8080/"
        },
        "id": "YEAISyqk0klb",
        "outputId": "b0138784-1baf-483d-a672-405eee162dd6"
      },
      "source": [
        "model.load_weights(\"/content/drive/MyDrive/Moodify_weights.hdf5\")\n",
        "model.compile(optimizer=opt,loss='sparse_categorical_crossentropy',metrics='accuracy')\n",
        "model.evaluate(x_test,y_test)"
      ],
      "execution_count": null,
      "outputs": [
        {
          "output_type": "stream",
          "text": [
            "113/113 [==============================] - 1s 4ms/step - loss: 0.9403 - accuracy: 0.6420\n"
          ],
          "name": "stdout"
        },
        {
          "output_type": "execute_result",
          "data": {
            "text/plain": [
              "[0.9403234124183655, 0.6419615745544434]"
            ]
          },
          "metadata": {
            "tags": []
          },
          "execution_count": 23
        }
      ]
    }
  ]
}